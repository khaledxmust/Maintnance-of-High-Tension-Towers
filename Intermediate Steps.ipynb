{
 "cells": [
  {
   "cell_type": "markdown",
   "metadata": {},
   "source": [
    "## Cropping & Resizing Detected Braces"
   ]
  },
  {
   "cell_type": "markdown",
   "metadata": {
    "id": "-WW8JqiAxgJ3"
   },
   "source": [
    "##### System Installation"
   ]
  },
  {
   "cell_type": "code",
   "execution_count": null,
   "metadata": {
    "id": "p-b4JQq2cMaL"
   },
   "outputs": [],
   "source": [
    "!pip install -r https://raw.githubusercontent.com/ultralytics/yolov5/master/requirements.txt\n",
    "!gdown https://drive.google.com/u/0/uc?id=1cdSf3NLweas03-_bQEafB3MlBrHpaBaL"
   ]
  },
  {
   "cell_type": "code",
   "execution_count": 2,
   "metadata": {
    "colab": {
     "base_uri": "https://localhost:8080/"
    },
    "executionInfo": {
     "elapsed": 1741,
     "status": "ok",
     "timestamp": 1625440102246,
     "user": {
      "displayName": "khaled adel",
      "photoUrl": "https://lh3.googleusercontent.com/a-/AOh14Ghhl1zd_biKMyaCWs5lu6kmAOm5VBob8rA3VLz2GcE=s64",
      "userId": "16745034418041002044"
     },
     "user_tz": -120
    },
    "id": "SbkQafqHcZrp",
    "outputId": "388e1b9e-99f6-4da5-d55c-242f59efe211"
   },
   "outputs": [
    {
     "name": "stderr",
     "output_type": "stream",
     "text": [
      "Using cache found in /root/.cache/torch/hub/ultralytics_yolov5_master\n",
      "Fusing layers... \n",
      "/usr/local/lib/python3.7/dist-packages/torch/nn/functional.py:718: UserWarning: Named tensors and all their associated APIs are an experimental feature and subject to change. Please do not use them for anything important until they are released as stable. (Triggered internally at  /pytorch/c10/core/TensorImpl.h:1156.)\n",
      "  return torch.max_pool2d(input, kernel_size, stride, padding, dilation, ceil_mode)\n",
      "Model Summary: 232 layers, 7246518 parameters, 0 gradients\n",
      "Adding AutoShape... \n",
      "YOLOv5 🚀 2021-7-4 torch 1.9.0+cu102 CPU\n",
      "\n"
     ]
    }
   ],
   "source": [
    "import torch\n",
    "model = torch.hub.load('ultralytics/yolov5', 'custom', path='best.pt') "
   ]
  },
  {
   "cell_type": "code",
   "execution_count": 53,
   "metadata": {
    "colab": {
     "base_uri": "https://localhost:8080/"
    },
    "executionInfo": {
     "elapsed": 1353,
     "status": "ok",
     "timestamp": 1625442896931,
     "user": {
      "displayName": "khaled adel",
      "photoUrl": "https://lh3.googleusercontent.com/a-/AOh14Ghhl1zd_biKMyaCWs5lu6kmAOm5VBob8rA3VLz2GcE=s64",
      "userId": "16745034418041002044"
     },
     "user_tz": -120
    },
    "id": "fXTa6pNPcZ6M",
    "outputId": "90cd763c-8b9e-473a-f343-f28ef0a9d47e"
   },
   "outputs": [
    {
     "data": {
      "text/plain": [
       "(array([          0,           0,           0], dtype=float32),\n",
       " array([[    0.21469,     0.47219,     0.27275,     0.59298,      0.9172],\n",
       "        [    0.46366,     0.44526,     0.50524,      0.5265,     0.87682],\n",
       "        [    0.62569,     0.65001,     0.65606,     0.70905,     0.73778]], dtype=float32))"
      ]
     },
     "execution_count": 53,
     "metadata": {
      "tags": []
     },
     "output_type": "execute_result"
    }
   ],
   "source": [
    "results = model('/content/images/3424656-DSC06162.JPG')\n",
    "labels, cord_thres = results.xyxyn[0][:, -1].numpy(), results.xyxyn[0][:, :-1].numpy()\n",
    "labels, cord_thres"
   ]
  },
  {
   "cell_type": "code",
   "execution_count": 54,
   "metadata": {
    "colab": {
     "base_uri": "https://localhost:8080/"
    },
    "executionInfo": {
     "elapsed": 291,
     "status": "ok",
     "timestamp": 1625442898548,
     "user": {
      "displayName": "khaled adel",
      "photoUrl": "https://lh3.googleusercontent.com/a-/AOh14Ghhl1zd_biKMyaCWs5lu6kmAOm5VBob8rA3VLz2GcE=s64",
      "userId": "16745034418041002044"
     },
     "user_tz": -120
    },
    "id": "T5kftX6U1ncU",
    "outputId": "478165f3-ac61-419d-84ea-fc45e6af668e"
   },
   "outputs": [
    {
     "name": "stdout",
     "output_type": "stream",
     "text": [
      "[    0.21469     0.47219     0.27275     0.59298      0.9172]\n",
      "[    0.46366     0.44526     0.50524      0.5265     0.87682]\n",
      "[    0.62569     0.65001     0.65606     0.70905     0.73778]\n"
     ]
    }
   ],
   "source": [
    "for i in range(len(cord_thres)):\n",
    "  print(cord_thres[i])"
   ]
  },
  {
   "cell_type": "markdown",
   "metadata": {
    "id": "UUr1q8woyMwy"
   },
   "source": [
    "##### Required Images"
   ]
  },
  {
   "cell_type": "code",
   "execution_count": 1,
   "metadata": {
    "colab": {
     "base_uri": "https://localhost:8080/"
    },
    "executionInfo": {
     "elapsed": 29007,
     "status": "ok",
     "timestamp": 1625439498102,
     "user": {
      "displayName": "khaled adel",
      "photoUrl": "https://lh3.googleusercontent.com/a-/AOh14Ghhl1zd_biKMyaCWs5lu6kmAOm5VBob8rA3VLz2GcE=s64",
      "userId": "16745034418041002044"
     },
     "user_tz": -120
    },
    "id": "4N0CjLv2vd2b",
    "outputId": "d9e9aeb7-359a-4331-b867-bbcff6103524"
   },
   "outputs": [
    {
     "name": "stdout",
     "output_type": "stream",
     "text": [
      "Mounted at /content/ShardDrives/\n"
     ]
    }
   ],
   "source": [
    "from google.colab import drive\n",
    "drive.mount('/content/ShardDrives/')"
   ]
  },
  {
   "cell_type": "code",
   "execution_count": 3,
   "metadata": {
    "colab": {
     "base_uri": "https://localhost:8080/"
    },
    "executionInfo": {
     "elapsed": 136011,
     "status": "ok",
     "timestamp": 1625439744230,
     "user": {
      "displayName": "khaled adel",
      "photoUrl": "https://lh3.googleusercontent.com/a-/AOh14Ghhl1zd_biKMyaCWs5lu6kmAOm5VBob8rA3VLz2GcE=s64",
      "userId": "16745034418041002044"
     },
     "user_tz": -120
    },
    "id": "ibBgLyLFvfC3",
    "outputId": "22a2831c-f27d-49f1-cf3b-3622c5912670"
   },
   "outputs": [
    {
     "name": "stdout",
     "output_type": "stream",
     "text": [
      "mkdir: cannot create directory ‘images’: File exists\n"
     ]
    }
   ],
   "source": [
    "!mkdir images\n",
    "!cp /content/ShardDrives/MyDrive/DataSet/Datasets/Set\\ 1/* images/\n",
    "!cp /content/ShardDrives/MyDrive/DataSet/Datasets/Set\\ 2/* images/"
   ]
  },
  {
   "cell_type": "markdown",
   "metadata": {
    "id": "8z1lm_RBySLt"
   },
   "source": [
    "##### Processing Images"
   ]
  },
  {
   "cell_type": "code",
   "execution_count": 39,
   "metadata": {
    "executionInfo": {
     "elapsed": 302,
     "status": "ok",
     "timestamp": 1625442514594,
     "user": {
      "displayName": "khaled adel",
      "photoUrl": "https://lh3.googleusercontent.com/a-/AOh14Ghhl1zd_biKMyaCWs5lu6kmAOm5VBob8rA3VLz2GcE=s64",
      "userId": "16745034418041002044"
     },
     "user_tz": -120
    },
    "id": "N_ogftRNy44T"
   },
   "outputs": [],
   "source": [
    "import os\n",
    "import glob\n",
    "import cv2 as cv\n",
    "from tqdm.notebook import tqdm\n",
    "import matplotlib.pyplot as plt\n",
    "\n",
    "!mkdir CroppedImages"
   ]
  },
  {
   "cell_type": "code",
   "execution_count": null,
   "metadata": {
    "id": "puT8_WVhvfHB"
   },
   "outputs": [],
   "source": [
    "img = cv2.imread('/home/img/python.png', cv2.IMREAD_UNCHANGED)\n",
    "resized = cv2.resize(img, dim, interpolation = cv2.INTER_AREA)\n",
    "cv2.imwrite(\"IMAGE_NAME.png\", warpedimage)"
   ]
  },
  {
   "cell_type": "code",
   "execution_count": 20,
   "metadata": {
    "colab": {
     "base_uri": "https://localhost:8080/"
    },
    "executionInfo": {
     "elapsed": 736,
     "status": "ok",
     "timestamp": 1625441151464,
     "user": {
      "displayName": "khaled adel",
      "photoUrl": "https://lh3.googleusercontent.com/a-/AOh14Ghhl1zd_biKMyaCWs5lu6kmAOm5VBob8rA3VLz2GcE=s64",
      "userId": "16745034418041002044"
     },
     "user_tz": -120
    },
    "id": "h3rq0oNU1pVk",
    "outputId": "8aaa682a-3ad3-4f0b-818a-c17f97414df8"
   },
   "outputs": [
    {
     "data": {
      "text/plain": [
       "5304"
      ]
     },
     "execution_count": 20,
     "metadata": {
      "tags": []
     },
     "output_type": "execute_result"
    }
   ],
   "source": [
    "images = sorted(glob.glob(\"images/*\"))\n",
    "cv.imread(images[0],cv.COLOR_BGR2RGB).shape[0]"
   ]
  },
  {
   "cell_type": "code",
   "execution_count": 55,
   "metadata": {
    "colab": {
     "base_uri": "https://localhost:8080/",
     "height": 66,
     "referenced_widgets": [
      "dbc3e608d8b44abd9782c3e1dffdfd25",
      "313cade26f364d00b20c863694f42001",
      "e04bea8bada64b23a65c0635bd22377b",
      "db027eb275f24d73b5148f68e94bc357",
      "78233b3067384257850d02843921f8b5",
      "29b926ae768b427bbab083e5fc7cfe51",
      "54b496d85afb4be5b838aae28f08c22d",
      "40289dd6644d40afaf5fb09c805929be"
     ]
    },
    "executionInfo": {
     "elapsed": 230118,
     "status": "ok",
     "timestamp": 1625443319326,
     "user": {
      "displayName": "khaled adel",
      "photoUrl": "https://lh3.googleusercontent.com/a-/AOh14Ghhl1zd_biKMyaCWs5lu6kmAOm5VBob8rA3VLz2GcE=s64",
      "userId": "16745034418041002044"
     },
     "user_tz": -120
    },
    "id": "3jZOGii9vfK4",
    "outputId": "90082919-8c11-43ca-ed8e-869ce74e0335"
   },
   "outputs": [
    {
     "data": {
      "application/vnd.jupyter.widget-view+json": {
       "model_id": "dbc3e608d8b44abd9782c3e1dffdfd25",
       "version_major": 2,
       "version_minor": 0
      },
      "text/plain": [
       "HBox(children=(FloatProgress(value=0.0, max=144.0), HTML(value='')))"
      ]
     },
     "metadata": {
      "tags": []
     },
     "output_type": "display_data"
    },
    {
     "name": "stdout",
     "output_type": "stream",
     "text": [
      "\n"
     ]
    }
   ],
   "source": [
    "images, i = sorted(glob.glob(\"images/*\")), 0\n",
    "for img in tqdm(images):\n",
    "  results = model(img)\n",
    "  labels, cord_thres = results.xyxyn[0][:, -1].numpy(), results.xyxyn[0][:, :-1].numpy()\n",
    "  imx = cv.imread(img,cv.COLOR_BGR2RGB)\n",
    "  Y, X = imx.shape[0], imx.shape[1]\n",
    "  for o in range(len(cord_thres)):\n",
    "    x, y, w, h = int((cord_thres[o][0])*X), int((cord_thres[o][1])*Y), int((cord_thres[o][2])*X), int((cord_thres[o][3])*Y)\n",
    "    roi = imx[y:h, x:w]\n",
    "    cv.imwrite('CroppedImages/Img_'+str(i)+'.jpg', roi); i+=1"
   ]
  },
  {
   "cell_type": "code",
   "execution_count": 59,
   "metadata": {
    "executionInfo": {
     "elapsed": 1872,
     "status": "ok",
     "timestamp": 1625443448172,
     "user": {
      "displayName": "khaled adel",
      "photoUrl": "https://lh3.googleusercontent.com/a-/AOh14Ghhl1zd_biKMyaCWs5lu6kmAOm5VBob8rA3VLz2GcE=s64",
      "userId": "16745034418041002044"
     },
     "user_tz": -120
    },
    "id": "M7-c6CwI-d5T"
   },
   "outputs": [],
   "source": [
    "!zip -q CroppedImages.zip CroppedImages/*\n",
    "!cp -r CroppedImages.zip /content/ShardDrives/MyDrive/DataSet/Datasets/\n",
    "!cp -r CroppedImages /content/ShardDrives/MyDrive/DataSet/Datasets/CroppedObjects\n",
    "!mv /content/ShardDrives/MyDrive/DataSet/Datasets/CroppedObjects/CroppedImages/* /content/ShardDrives/MyDrive/DataSet/Datasets/CroppedObjects"
   ]
  },
  {
   "cell_type": "code",
   "execution_count": 69,
   "metadata": {
    "colab": {
     "base_uri": "https://localhost:8080/",
     "height": 66,
     "referenced_widgets": [
      "413522885b96456bb8770e386ae3d499",
      "48d4906ea6bd4687a9791489221e6a7a",
      "2a3790665afe4b79a6aca78ca1b8b13f",
      "491e531d6ea94fcbab280fedd4b2d336",
      "d2f2dd24f2a848cf894c5c4175c78b03",
      "909dd871327f47bdaf046619fa4f1c2f",
      "3c88a554fe394729a3a26c18270e1193",
      "e81f51d1c7714c8b9b385182214794cd"
     ]
    },
    "executionInfo": {
     "elapsed": 5318,
     "status": "ok",
     "timestamp": 1625444770299,
     "user": {
      "displayName": "khaled adel",
      "photoUrl": "https://lh3.googleusercontent.com/a-/AOh14Ghhl1zd_biKMyaCWs5lu6kmAOm5VBob8rA3VLz2GcE=s64",
      "userId": "16745034418041002044"
     },
     "user_tz": -120
    },
    "id": "5RkMuaeM_Mod",
    "outputId": "210083cd-664e-4dfb-bcfb-a770a1c2c165"
   },
   "outputs": [
    {
     "data": {
      "application/vnd.jupyter.widget-view+json": {
       "model_id": "413522885b96456bb8770e386ae3d499",
       "version_major": 2,
       "version_minor": 0
      },
      "text/plain": [
       "HBox(children=(FloatProgress(value=0.0, max=155.0), HTML(value='')))"
      ]
     },
     "metadata": {
      "tags": []
     },
     "output_type": "display_data"
    },
    {
     "name": "stdout",
     "output_type": "stream",
     "text": [
      "\n"
     ]
    }
   ],
   "source": [
    "images, i = sorted(glob.glob(\"CroppedImages/*\")), 0\n",
    "for img in tqdm(images):\n",
    "  imx = cv.imread(img,cv.COLOR_BGR2RGB)\n",
    "  Y, X = imx.shape[0], imx.shape[1]\n",
    "  resized = cv.resize(imx, (608,608), interpolation = cv.INTER_AREA)\n",
    "  cv.imwrite('ResizedObjects/Img_'+str(i)+'.jpg', resized); i+=1"
   ]
  },
  {
   "cell_type": "code",
   "execution_count": 70,
   "metadata": {
    "executionInfo": {
     "elapsed": 2698,
     "status": "ok",
     "timestamp": 1625444843082,
     "user": {
      "displayName": "khaled adel",
      "photoUrl": "https://lh3.googleusercontent.com/a-/AOh14Ghhl1zd_biKMyaCWs5lu6kmAOm5VBob8rA3VLz2GcE=s64",
      "userId": "16745034418041002044"
     },
     "user_tz": -120
    },
    "id": "VZqps2khAyTX"
   },
   "outputs": [],
   "source": [
    "!zip -q ResizedObjects.zip ResizedObjects/*\n",
    "!cp -r ResizedObjects.zip /content/ShardDrives/MyDrive/DataSet/Datasets/\n",
    "!cp -r ResizedObjects /content/ShardDrives/MyDrive/DataSet/Datasets/"
   ]
  },
  {
   "cell_type": "code",
   "execution_count": 15,
   "metadata": {
    "executionInfo": {
     "elapsed": 307,
     "status": "ok",
     "timestamp": 1625441046851,
     "user": {
      "displayName": "khaled adel",
      "photoUrl": "https://lh3.googleusercontent.com/a-/AOh14Ghhl1zd_biKMyaCWs5lu6kmAOm5VBob8rA3VLz2GcE=s64",
      "userId": "16745034418041002044"
     },
     "user_tz": -120
    },
    "id": "lK-SiDFQ1d9N"
   },
   "outputs": [],
   "source": [
    "cv.destroyAllWindows()"
   ]
  }
 ],
 "metadata": {
  "colab": {
   "authorship_tag": "ABX9TyNMa4T7KcmAVobwliTYxvmj",
   "collapsed_sections": [],
   "name": "Intermediate Steps.ipynb",
   "provenance": []
  },
  "kernelspec": {
   "display_name": "Python 3",
   "language": "python",
   "name": "python3"
  },
  "language_info": {
   "codemirror_mode": {
    "name": "ipython",
    "version": 3
   },
   "file_extension": ".py",
   "mimetype": "text/x-python",
   "name": "python",
   "nbconvert_exporter": "python",
   "pygments_lexer": "ipython3",
   "version": "3.7.4"
  },
  "widgets": {
   "application/vnd.jupyter.widget-state+json": {
    "29b926ae768b427bbab083e5fc7cfe51": {
     "model_module": "@jupyter-widgets/base",
     "model_name": "LayoutModel",
     "state": {
      "_model_module": "@jupyter-widgets/base",
      "_model_module_version": "1.2.0",
      "_model_name": "LayoutModel",
      "_view_count": null,
      "_view_module": "@jupyter-widgets/base",
      "_view_module_version": "1.2.0",
      "_view_name": "LayoutView",
      "align_content": null,
      "align_items": null,
      "align_self": null,
      "border": null,
      "bottom": null,
      "display": null,
      "flex": null,
      "flex_flow": null,
      "grid_area": null,
      "grid_auto_columns": null,
      "grid_auto_flow": null,
      "grid_auto_rows": null,
      "grid_column": null,
      "grid_gap": null,
      "grid_row": null,
      "grid_template_areas": null,
      "grid_template_columns": null,
      "grid_template_rows": null,
      "height": null,
      "justify_content": null,
      "justify_items": null,
      "left": null,
      "margin": null,
      "max_height": null,
      "max_width": null,
      "min_height": null,
      "min_width": null,
      "object_fit": null,
      "object_position": null,
      "order": null,
      "overflow": null,
      "overflow_x": null,
      "overflow_y": null,
      "padding": null,
      "right": null,
      "top": null,
      "visibility": null,
      "width": null
     }
    },
    "2a3790665afe4b79a6aca78ca1b8b13f": {
     "model_module": "@jupyter-widgets/controls",
     "model_name": "FloatProgressModel",
     "state": {
      "_dom_classes": [],
      "_model_module": "@jupyter-widgets/controls",
      "_model_module_version": "1.5.0",
      "_model_name": "FloatProgressModel",
      "_view_count": null,
      "_view_module": "@jupyter-widgets/controls",
      "_view_module_version": "1.5.0",
      "_view_name": "ProgressView",
      "bar_style": "success",
      "description": "100%",
      "description_tooltip": null,
      "layout": "IPY_MODEL_909dd871327f47bdaf046619fa4f1c2f",
      "max": 155,
      "min": 0,
      "orientation": "horizontal",
      "style": "IPY_MODEL_d2f2dd24f2a848cf894c5c4175c78b03",
      "value": 155
     }
    },
    "313cade26f364d00b20c863694f42001": {
     "model_module": "@jupyter-widgets/base",
     "model_name": "LayoutModel",
     "state": {
      "_model_module": "@jupyter-widgets/base",
      "_model_module_version": "1.2.0",
      "_model_name": "LayoutModel",
      "_view_count": null,
      "_view_module": "@jupyter-widgets/base",
      "_view_module_version": "1.2.0",
      "_view_name": "LayoutView",
      "align_content": null,
      "align_items": null,
      "align_self": null,
      "border": null,
      "bottom": null,
      "display": null,
      "flex": null,
      "flex_flow": null,
      "grid_area": null,
      "grid_auto_columns": null,
      "grid_auto_flow": null,
      "grid_auto_rows": null,
      "grid_column": null,
      "grid_gap": null,
      "grid_row": null,
      "grid_template_areas": null,
      "grid_template_columns": null,
      "grid_template_rows": null,
      "height": null,
      "justify_content": null,
      "justify_items": null,
      "left": null,
      "margin": null,
      "max_height": null,
      "max_width": null,
      "min_height": null,
      "min_width": null,
      "object_fit": null,
      "object_position": null,
      "order": null,
      "overflow": null,
      "overflow_x": null,
      "overflow_y": null,
      "padding": null,
      "right": null,
      "top": null,
      "visibility": null,
      "width": null
     }
    },
    "3c88a554fe394729a3a26c18270e1193": {
     "model_module": "@jupyter-widgets/controls",
     "model_name": "DescriptionStyleModel",
     "state": {
      "_model_module": "@jupyter-widgets/controls",
      "_model_module_version": "1.5.0",
      "_model_name": "DescriptionStyleModel",
      "_view_count": null,
      "_view_module": "@jupyter-widgets/base",
      "_view_module_version": "1.2.0",
      "_view_name": "StyleView",
      "description_width": ""
     }
    },
    "40289dd6644d40afaf5fb09c805929be": {
     "model_module": "@jupyter-widgets/base",
     "model_name": "LayoutModel",
     "state": {
      "_model_module": "@jupyter-widgets/base",
      "_model_module_version": "1.2.0",
      "_model_name": "LayoutModel",
      "_view_count": null,
      "_view_module": "@jupyter-widgets/base",
      "_view_module_version": "1.2.0",
      "_view_name": "LayoutView",
      "align_content": null,
      "align_items": null,
      "align_self": null,
      "border": null,
      "bottom": null,
      "display": null,
      "flex": null,
      "flex_flow": null,
      "grid_area": null,
      "grid_auto_columns": null,
      "grid_auto_flow": null,
      "grid_auto_rows": null,
      "grid_column": null,
      "grid_gap": null,
      "grid_row": null,
      "grid_template_areas": null,
      "grid_template_columns": null,
      "grid_template_rows": null,
      "height": null,
      "justify_content": null,
      "justify_items": null,
      "left": null,
      "margin": null,
      "max_height": null,
      "max_width": null,
      "min_height": null,
      "min_width": null,
      "object_fit": null,
      "object_position": null,
      "order": null,
      "overflow": null,
      "overflow_x": null,
      "overflow_y": null,
      "padding": null,
      "right": null,
      "top": null,
      "visibility": null,
      "width": null
     }
    },
    "413522885b96456bb8770e386ae3d499": {
     "model_module": "@jupyter-widgets/controls",
     "model_name": "HBoxModel",
     "state": {
      "_dom_classes": [],
      "_model_module": "@jupyter-widgets/controls",
      "_model_module_version": "1.5.0",
      "_model_name": "HBoxModel",
      "_view_count": null,
      "_view_module": "@jupyter-widgets/controls",
      "_view_module_version": "1.5.0",
      "_view_name": "HBoxView",
      "box_style": "",
      "children": [
       "IPY_MODEL_2a3790665afe4b79a6aca78ca1b8b13f",
       "IPY_MODEL_491e531d6ea94fcbab280fedd4b2d336"
      ],
      "layout": "IPY_MODEL_48d4906ea6bd4687a9791489221e6a7a"
     }
    },
    "48d4906ea6bd4687a9791489221e6a7a": {
     "model_module": "@jupyter-widgets/base",
     "model_name": "LayoutModel",
     "state": {
      "_model_module": "@jupyter-widgets/base",
      "_model_module_version": "1.2.0",
      "_model_name": "LayoutModel",
      "_view_count": null,
      "_view_module": "@jupyter-widgets/base",
      "_view_module_version": "1.2.0",
      "_view_name": "LayoutView",
      "align_content": null,
      "align_items": null,
      "align_self": null,
      "border": null,
      "bottom": null,
      "display": null,
      "flex": null,
      "flex_flow": null,
      "grid_area": null,
      "grid_auto_columns": null,
      "grid_auto_flow": null,
      "grid_auto_rows": null,
      "grid_column": null,
      "grid_gap": null,
      "grid_row": null,
      "grid_template_areas": null,
      "grid_template_columns": null,
      "grid_template_rows": null,
      "height": null,
      "justify_content": null,
      "justify_items": null,
      "left": null,
      "margin": null,
      "max_height": null,
      "max_width": null,
      "min_height": null,
      "min_width": null,
      "object_fit": null,
      "object_position": null,
      "order": null,
      "overflow": null,
      "overflow_x": null,
      "overflow_y": null,
      "padding": null,
      "right": null,
      "top": null,
      "visibility": null,
      "width": null
     }
    },
    "491e531d6ea94fcbab280fedd4b2d336": {
     "model_module": "@jupyter-widgets/controls",
     "model_name": "HTMLModel",
     "state": {
      "_dom_classes": [],
      "_model_module": "@jupyter-widgets/controls",
      "_model_module_version": "1.5.0",
      "_model_name": "HTMLModel",
      "_view_count": null,
      "_view_module": "@jupyter-widgets/controls",
      "_view_module_version": "1.5.0",
      "_view_name": "HTMLView",
      "description": "",
      "description_tooltip": null,
      "layout": "IPY_MODEL_e81f51d1c7714c8b9b385182214794cd",
      "placeholder": "​",
      "style": "IPY_MODEL_3c88a554fe394729a3a26c18270e1193",
      "value": " 155/155 [00:05&lt;00:00, 30.69it/s]"
     }
    },
    "54b496d85afb4be5b838aae28f08c22d": {
     "model_module": "@jupyter-widgets/controls",
     "model_name": "DescriptionStyleModel",
     "state": {
      "_model_module": "@jupyter-widgets/controls",
      "_model_module_version": "1.5.0",
      "_model_name": "DescriptionStyleModel",
      "_view_count": null,
      "_view_module": "@jupyter-widgets/base",
      "_view_module_version": "1.2.0",
      "_view_name": "StyleView",
      "description_width": ""
     }
    },
    "78233b3067384257850d02843921f8b5": {
     "model_module": "@jupyter-widgets/controls",
     "model_name": "ProgressStyleModel",
     "state": {
      "_model_module": "@jupyter-widgets/controls",
      "_model_module_version": "1.5.0",
      "_model_name": "ProgressStyleModel",
      "_view_count": null,
      "_view_module": "@jupyter-widgets/base",
      "_view_module_version": "1.2.0",
      "_view_name": "StyleView",
      "bar_color": null,
      "description_width": "initial"
     }
    },
    "909dd871327f47bdaf046619fa4f1c2f": {
     "model_module": "@jupyter-widgets/base",
     "model_name": "LayoutModel",
     "state": {
      "_model_module": "@jupyter-widgets/base",
      "_model_module_version": "1.2.0",
      "_model_name": "LayoutModel",
      "_view_count": null,
      "_view_module": "@jupyter-widgets/base",
      "_view_module_version": "1.2.0",
      "_view_name": "LayoutView",
      "align_content": null,
      "align_items": null,
      "align_self": null,
      "border": null,
      "bottom": null,
      "display": null,
      "flex": null,
      "flex_flow": null,
      "grid_area": null,
      "grid_auto_columns": null,
      "grid_auto_flow": null,
      "grid_auto_rows": null,
      "grid_column": null,
      "grid_gap": null,
      "grid_row": null,
      "grid_template_areas": null,
      "grid_template_columns": null,
      "grid_template_rows": null,
      "height": null,
      "justify_content": null,
      "justify_items": null,
      "left": null,
      "margin": null,
      "max_height": null,
      "max_width": null,
      "min_height": null,
      "min_width": null,
      "object_fit": null,
      "object_position": null,
      "order": null,
      "overflow": null,
      "overflow_x": null,
      "overflow_y": null,
      "padding": null,
      "right": null,
      "top": null,
      "visibility": null,
      "width": null
     }
    },
    "d2f2dd24f2a848cf894c5c4175c78b03": {
     "model_module": "@jupyter-widgets/controls",
     "model_name": "ProgressStyleModel",
     "state": {
      "_model_module": "@jupyter-widgets/controls",
      "_model_module_version": "1.5.0",
      "_model_name": "ProgressStyleModel",
      "_view_count": null,
      "_view_module": "@jupyter-widgets/base",
      "_view_module_version": "1.2.0",
      "_view_name": "StyleView",
      "bar_color": null,
      "description_width": "initial"
     }
    },
    "db027eb275f24d73b5148f68e94bc357": {
     "model_module": "@jupyter-widgets/controls",
     "model_name": "HTMLModel",
     "state": {
      "_dom_classes": [],
      "_model_module": "@jupyter-widgets/controls",
      "_model_module_version": "1.5.0",
      "_model_name": "HTMLModel",
      "_view_count": null,
      "_view_module": "@jupyter-widgets/controls",
      "_view_module_version": "1.5.0",
      "_view_name": "HTMLView",
      "description": "",
      "description_tooltip": null,
      "layout": "IPY_MODEL_40289dd6644d40afaf5fb09c805929be",
      "placeholder": "​",
      "style": "IPY_MODEL_54b496d85afb4be5b838aae28f08c22d",
      "value": " 144/144 [04:30&lt;00:00,  1.88s/it]"
     }
    },
    "dbc3e608d8b44abd9782c3e1dffdfd25": {
     "model_module": "@jupyter-widgets/controls",
     "model_name": "HBoxModel",
     "state": {
      "_dom_classes": [],
      "_model_module": "@jupyter-widgets/controls",
      "_model_module_version": "1.5.0",
      "_model_name": "HBoxModel",
      "_view_count": null,
      "_view_module": "@jupyter-widgets/controls",
      "_view_module_version": "1.5.0",
      "_view_name": "HBoxView",
      "box_style": "",
      "children": [
       "IPY_MODEL_e04bea8bada64b23a65c0635bd22377b",
       "IPY_MODEL_db027eb275f24d73b5148f68e94bc357"
      ],
      "layout": "IPY_MODEL_313cade26f364d00b20c863694f42001"
     }
    },
    "e04bea8bada64b23a65c0635bd22377b": {
     "model_module": "@jupyter-widgets/controls",
     "model_name": "FloatProgressModel",
     "state": {
      "_dom_classes": [],
      "_model_module": "@jupyter-widgets/controls",
      "_model_module_version": "1.5.0",
      "_model_name": "FloatProgressModel",
      "_view_count": null,
      "_view_module": "@jupyter-widgets/controls",
      "_view_module_version": "1.5.0",
      "_view_name": "ProgressView",
      "bar_style": "success",
      "description": "100%",
      "description_tooltip": null,
      "layout": "IPY_MODEL_29b926ae768b427bbab083e5fc7cfe51",
      "max": 144,
      "min": 0,
      "orientation": "horizontal",
      "style": "IPY_MODEL_78233b3067384257850d02843921f8b5",
      "value": 144
     }
    },
    "e81f51d1c7714c8b9b385182214794cd": {
     "model_module": "@jupyter-widgets/base",
     "model_name": "LayoutModel",
     "state": {
      "_model_module": "@jupyter-widgets/base",
      "_model_module_version": "1.2.0",
      "_model_name": "LayoutModel",
      "_view_count": null,
      "_view_module": "@jupyter-widgets/base",
      "_view_module_version": "1.2.0",
      "_view_name": "LayoutView",
      "align_content": null,
      "align_items": null,
      "align_self": null,
      "border": null,
      "bottom": null,
      "display": null,
      "flex": null,
      "flex_flow": null,
      "grid_area": null,
      "grid_auto_columns": null,
      "grid_auto_flow": null,
      "grid_auto_rows": null,
      "grid_column": null,
      "grid_gap": null,
      "grid_row": null,
      "grid_template_areas": null,
      "grid_template_columns": null,
      "grid_template_rows": null,
      "height": null,
      "justify_content": null,
      "justify_items": null,
      "left": null,
      "margin": null,
      "max_height": null,
      "max_width": null,
      "min_height": null,
      "min_width": null,
      "object_fit": null,
      "object_position": null,
      "order": null,
      "overflow": null,
      "overflow_x": null,
      "overflow_y": null,
      "padding": null,
      "right": null,
      "top": null,
      "visibility": null,
      "width": null
     }
    }
   }
  }
 },
 "nbformat": 4,
 "nbformat_minor": 1
}
